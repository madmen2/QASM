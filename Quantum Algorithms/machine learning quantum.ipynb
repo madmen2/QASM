{
 "cells": [
  {
   "cell_type": "code",
   "execution_count": null,
   "metadata": {},
   "outputs": [],
   "source": [
    "#quantum SVM"
   ]
  },
  {
   "cell_type": "code",
   "execution_count": 4,
   "metadata": {},
   "outputs": [],
   "source": [
    "import qiskit\n",
    "from matplotlib import pyplot as plt\n",
    "import numpy as np\n",
    "from qiskit.ml.datasets import ad_hoc_data\n",
    "from qiskit import BasicAer\n",
    "from qiskit.aqua import QuantumInstance\n",
    "from qiskit.circuit.library import ZZFeatureMap\n",
    "from qiskit.aqua.algorithms import QSVM\n",
    "from qiskit.aqua.utils import split_dataset_to_data_and_labels, map_label_to_class_name"
   ]
  },
  {
   "cell_type": "code",
   "execution_count": 7,
   "metadata": {},
   "outputs": [
    {
     "data": {
      "image/png": "[encoded data removed]",
      "text/plain": [
       "<Figure size 432x288 with 1 Axes>"
      ]
     },
     "metadata": {
      "needs_background": "light"
     },
     "output_type": "display_data"
    },
    {
     "name": "stdout",
     "output_type": "stream",
     "text": [
      "{'A': 0, 'B': 1}\n"
     ]
    }
   ],
   "source": [
    "feature_dim =2\n",
    "training_dataset=20\n",
    "testing_dataset_size = 10\n",
    "random_seed = 10598\n",
    "shots=10000\n",
    "\n",
    "#data\n",
    "sample_Total, training_input, test_input, class_labels= ad_hoc_data(training_size=training_dataset,\n",
    "                                                                    test_size=testing_dataset_size,\n",
    "                                                                    gap= 0.5, #gap in higher dim space,\n",
    "                                                                    n=feature_dim,\n",
    "                                                                    plot_data=True)\n",
    "datapoints , class_to_label = split_dataset_to_data_and_labels(test_input)\n",
    "print(class_to_label)"
   ]
  },
  {
   "cell_type": "code",
   "execution_count": 9,
   "metadata": {},
   "outputs": [],
   "source": [
    "#run on simulator \n",
    "backend = BasicAer.get_backend('qasm_simulator')\n",
    "feature_map =ZZFeatureMap(feature_dim,reps=2)\n",
    "svm= QSVM(feature_map,training_input,test_input,None)\n",
    "svm.random_seed = random_seed\n",
    "quantim_instance = QuantumInstance(backend,shots=shots, seed_simulator=random_seed,seed_transpiler=random_seed)\n",
    "result=svm.run(quantim_instance)"
   ]
  },
  {
   "cell_type": "code",
   "execution_count": 12,
   "metadata": {},
   "outputs": [
    {
     "name": "stdout",
     "output_type": "stream",
     "text": [
      "kernal Matrix during training:\n"
     ]
    },
    {
     "data": {
      "image/png": "[encoded data removed]",
      "text/plain": [
       "<Figure size 432x288 with 1 Axes>"
      ]
     },
     "metadata": {
      "needs_background": "light"
     },
     "output_type": "display_data"
    }
   ],
   "source": [
    "#distance between points in higher dimensional space\n",
    "\n",
    "print('kernal Matrix during training:')\n",
    "kernel_matrix= result['kernel_matrix_training']\n",
    "img = plt.imshow(np.asmatrix(kernel_matrix),interpolation='nearest', origin='upper',cmap='bone_r')\n",
    "plt.show()"
   ]
  },
  {
   "cell_type": "code",
   "execution_count": 14,
   "metadata": {},
   "outputs": [
    {
     "name": "stdout",
     "output_type": "stream",
     "text": [
      "ground truth: [[2.26194671 3.45575192]\n",
      " [0.31415927 3.89557489]\n",
      " [3.76991118 4.83805269]\n",
      " [0.56548668 3.64424748]\n",
      " [5.65486678 3.01592895]\n",
      " [5.65486678 2.82743339]\n",
      " [6.03185789 3.76991118]\n",
      " [0.87964594 4.39822972]\n",
      " [4.71238898 5.34070751]\n",
      " [1.94778745 6.03185789]\n",
      " [3.26725636 2.26194671]\n",
      " [2.07345115 1.00530965]\n",
      " [3.20442451 5.02654825]\n",
      " [4.64955713 2.136283  ]\n",
      " [0.18849556 2.19911486]\n",
      " [2.76460154 4.33539786]\n",
      " [3.76991118 2.19911486]\n",
      " [4.0212386  2.26194671]\n",
      " [6.1575216  4.1469023 ]\n",
      " [1.31946891 5.96902604]]\n",
      "prediction :  [0 0 0 0 0 0 0 0 0 0 1 1 1 1 1 1 1 1 1 1]\n",
      "testing success ratio:  1.0\n"
     ]
    }
   ],
   "source": [
    "#validating accuracy \n",
    "\n",
    "predicted_labels = svm.predict(datapoints[0])\n",
    "predicted_classes= map_label_to_class_name(predicted_labels, svm.label_to_class)\n",
    "print(\"ground truth: {}\".format(datapoints[0]))\n",
    "print(\"prediction :  {}\".format(predicted_labels))\n",
    "print(\"testing success ratio: \", result['testing_accuracy'])"
   ]
  },
  {
   "cell_type": "code",
   "execution_count": null,
   "metadata": {},
   "outputs": [],
   "source": []
  }
 ],
 "metadata": {
  "interpreter": {
   "hash": "1baa965d5efe3ac65b79dfc60c0d706280b1da80fedb7760faf2759126c4f253"
  },
  "kernelspec": {
   "display_name": "Python 3.8.6 64-bit",
   "language": "python",
   "name": "python3"
  },
  "language_info": {
   "codemirror_mode": {
    "name": "ipython",
    "version": 3
   },
   "file_extension": ".py",
   "mimetype": "text/x-python",
   "name": "python",
   "nbconvert_exporter": "python",
   "pygments_lexer": "ipython3",
   "version": "3.8.6"
  },
  "orig_nbformat": 4
 },
 "nbformat": 4,
 "nbformat_minor": 2
}
